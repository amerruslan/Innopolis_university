{
  "nbformat": 4,
  "nbformat_minor": 0,
  "metadata": {
    "colab": {
      "provenance": []
    },
    "kernelspec": {
      "name": "python3",
      "display_name": "Python 3"
    },
    "language_info": {
      "name": "python"
    }
  },
  "cells": [
    {
      "cell_type": "code",
      "execution_count": null,
      "metadata": {
        "id": "BHzvGmpWdrQ6"
      },
      "outputs": [],
      "source": [
        "import numpy as np"
      ]
    },
    {
      "cell_type": "code",
      "source": [
        "def Multi_matrix(a,b):\n",
        "  ''' Умножение двух матриц а и b\n",
        "  n - число строк в матрице а\n",
        "  m - число столбцов в матрице а\n",
        "  p - число строк в матрице b\n",
        "  '''\n",
        "  n,m,p = len(a),len(b),len(b[0])\n",
        "  c = [[0]*p for _ in range(n)]\n",
        "  for i in range(n):\n",
        "      for j in range(p):\n",
        "          for k in range(m):\n",
        "              c[i][j] += a[i][k] * b[k][j]\n",
        "  return c"
      ],
      "metadata": {
        "id": "wbzk-OiqqZhZ"
      },
      "execution_count": null,
      "outputs": []
    },
    {
      "cell_type": "code",
      "source": [
        "a = [[6, -8, 3]]\n",
        "\n",
        "b = [[1],\n",
        "     [1],\n",
        "     [4]]\n",
        "\n",
        "Multi_matrix(a,b)"
      ],
      "metadata": {
        "id": "UWI4yZ7drj_J",
        "colab": {
          "base_uri": "https://localhost:8080/"
        },
        "outputId": "6884c314-26aa-46bb-a098-dd0b76c955fa"
      },
      "execution_count": null,
      "outputs": [
        {
          "output_type": "execute_result",
          "data": {
            "text/plain": [
              "[[10]]"
            ]
          },
          "metadata": {},
          "execution_count": 50
        }
      ]
    },
    {
      "cell_type": "code",
      "source": [
        "d = [[-3, -7],\n",
        "     [-10, 6],\n",
        "     [0, -6],\n",
        "     [-1, -3],\n",
        "     ]\n",
        "\n",
        "e = [[-8, 9],\n",
        "     [4, -2]]\n",
        "\n",
        "Multi_matrix(d,e)"
      ],
      "metadata": {
        "id": "ij0AgqnKrWT9",
        "colab": {
          "base_uri": "https://localhost:8080/"
        },
        "outputId": "5090cbbf-2704-490b-c631-2477e0fd701a"
      },
      "execution_count": null,
      "outputs": [
        {
          "output_type": "execute_result",
          "data": {
            "text/plain": [
              "[[-4, -13], [104, -102], [-24, 12], [-4, -3]]"
            ]
          },
          "metadata": {},
          "execution_count": 51
        }
      ]
    }
  ]
}
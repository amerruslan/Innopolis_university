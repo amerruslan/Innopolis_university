{
  "nbformat": 4,
  "nbformat_minor": 0,
  "metadata": {
    "colab": {
      "provenance": []
    },
    "kernelspec": {
      "name": "python3",
      "display_name": "Python 3"
    },
    "language_info": {
      "name": "python"
    }
  },
  "cells": [
    {
      "cell_type": "code",
      "source": [
        "import numpy as np"
      ],
      "metadata": {
        "id": "w4NXAshuwMWK"
      },
      "execution_count": null,
      "outputs": []
    },
    {
      "cell_type": "code",
      "execution_count": null,
      "metadata": {
        "colab": {
          "base_uri": "https://localhost:8080/"
        },
        "id": "OQcbCE2iuclp",
        "outputId": "7b22e48c-53f3-4447-9286-1cdd098f51df"
      },
      "outputs": [
        {
          "output_type": "stream",
          "name": "stdout",
          "text": [
            "Результат выражения a + 2 * b:\n",
            "[[7 0 5]\n",
            " [0 1 9]]\n",
            "Результат выражения b + 2 * c:\n",
            "[[-1  5]\n",
            " [ 1 -2]\n",
            " [ 4  8]]\n"
          ]
        }
      ],
      "source": [
        "# Задание 1\n",
        "a = np.array([[1, 2, 1], [-2, 1, 1]])\n",
        "b = np.array([[3, 1], [-1, 0], [2, 4]])\n",
        "c = np.array([[-2, 2], [1, -1], [1, 2]])\n",
        "\n",
        "# 1) a + 2 * b\n",
        "b_transposed = np.transpose(b)\n",
        "result1 = a + 2 * b_transposed\n",
        "\n",
        "# 2) b + 2 * c\n",
        "result2 = b + 2 * c\n",
        "\n",
        "print(\"Результат выражения a + 2 * b:\")\n",
        "print(result1)\n",
        "\n",
        "print(\"Результат выражения b + 2 * c:\")\n",
        "print(result2)"
      ]
    },
    {
      "cell_type": "code",
      "source": [
        "# Задание 2\n",
        "# Создание матрицы 8x8 из нулей\n",
        "matrix = np.zeros((8, 8), dtype=int)\n",
        "\n",
        "# Заполнение матрицы значениями в шахматном порядке\n",
        "matrix[1::2, ::2] = 1\n",
        "matrix[::2, 1::2] = 1\n",
        "\n",
        "print(matrix)"
      ],
      "metadata": {
        "colab": {
          "base_uri": "https://localhost:8080/"
        },
        "id": "uu2_DPftuhPX",
        "outputId": "32fe808e-45fa-455f-9407-027c38592ccc"
      },
      "execution_count": null,
      "outputs": [
        {
          "output_type": "stream",
          "name": "stdout",
          "text": [
            "[[0 1 0 1 0 1 0 1]\n",
            " [1 0 1 0 1 0 1 0]\n",
            " [0 1 0 1 0 1 0 1]\n",
            " [1 0 1 0 1 0 1 0]\n",
            " [0 1 0 1 0 1 0 1]\n",
            " [1 0 1 0 1 0 1 0]\n",
            " [0 1 0 1 0 1 0 1]\n",
            " [1 0 1 0 1 0 1 0]]\n"
          ]
        }
      ]
    },
    {
      "cell_type": "code",
      "source": [
        "# Задание 3\n",
        "# 1)\n",
        "first_vector = np.arange(0, 1.5, 0.1)\n",
        "second_vector = np.arange(1, 7)\n",
        "\n",
        "print(\"Первый вектор: \", first_vector)\n",
        "print(\"Второй вектор: \", second_vector)\n",
        "\n",
        "# 2)\n",
        "first_matrix = first_vector.reshape(5, 3)\n",
        "second_matrix = second_vector.reshape(3, 2)\n",
        "result_matrix = np.dot(first_matrix, second_matrix)\n",
        "\n",
        "print(\"Первая матрица: \",first_matrix)\n",
        "print(\"Вторая матрица: \",second_matrix)\n",
        "print(\"Результат перемножения матриц: \",result_matrix)"
      ],
      "metadata": {
        "id": "zMT1nQRdvZv7",
        "colab": {
          "base_uri": "https://localhost:8080/"
        },
        "outputId": "e5018269-c94f-4583-9dab-6c01dd011dfb"
      },
      "execution_count": null,
      "outputs": [
        {
          "output_type": "stream",
          "name": "stdout",
          "text": [
            "Первый вектор:  [0.  0.1 0.2 0.3 0.4 0.5 0.6 0.7 0.8 0.9 1.  1.1 1.2 1.3 1.4]\n",
            "Второй вектор:  [1 2 3 4 5 6]\n",
            "Первая матрица:  [[0.  0.1 0.2]\n",
            " [0.3 0.4 0.5]\n",
            " [0.6 0.7 0.8]\n",
            " [0.9 1.  1.1]\n",
            " [1.2 1.3 1.4]]\n",
            "Вторая матрица:  [[1 2]\n",
            " [3 4]\n",
            " [5 6]]\n",
            "Результат перемножения матриц:  [[ 1.3  1.6]\n",
            " [ 4.   5.2]\n",
            " [ 6.7  8.8]\n",
            " [ 9.4 12.4]\n",
            " [12.1 16. ]]\n"
          ]
        }
      ]
    },
    {
      "cell_type": "code",
      "source": [],
      "metadata": {
        "id": "RNMS7TEtxywb"
      },
      "execution_count": null,
      "outputs": []
    }
  ]
}
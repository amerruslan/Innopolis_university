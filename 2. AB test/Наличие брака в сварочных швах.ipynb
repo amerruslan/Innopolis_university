{
 "cells": [
  {
   "cell_type": "code",
   "execution_count": 39,
   "metadata": {},
   "outputs": [],
   "source": [
    "import numpy as np\n",
    "import statistics\n",
    "import numpy as np\n",
    "import scipy.stats\n",
    "import pandas as pd\n",
    "import datetime as dt"
   ]
  },
  {
   "cell_type": "markdown",
   "metadata": {},
   "source": [
    "### Данные по определению качества сварки швов. Примечательно, что практически все колонки являются категориальными признаками (Клеймо, Вид сварки, Диаметр и толщина стенки, Марка стали, Негоден). Колонку \"Дата заявки\" впоследствии преобразуется в \"Год заявки\". Колонка \"Негоден\" является категориальной и сразу же преобразовывается в бинарную и характеризуется, как наличие брака в сварочном шве - цифра 1 и отсутствие брака - цифра 0. "
   ]
  },
  {
   "cell_type": "code",
   "execution_count": 40,
   "metadata": {},
   "outputs": [
    {
     "data": {
      "text/html": [
       "<div>\n",
       "<style scoped>\n",
       "    .dataframe tbody tr th:only-of-type {\n",
       "        vertical-align: middle;\n",
       "    }\n",
       "\n",
       "    .dataframe tbody tr th {\n",
       "        vertical-align: top;\n",
       "    }\n",
       "\n",
       "    .dataframe thead th {\n",
       "        text-align: right;\n",
       "    }\n",
       "</style>\n",
       "<table border=\"1\" class=\"dataframe\">\n",
       "  <thead>\n",
       "    <tr style=\"text-align: right;\">\n",
       "      <th></th>\n",
       "      <th>п/п</th>\n",
       "      <th>клеймо</th>\n",
       "      <th>Вид сварки</th>\n",
       "      <th>Производитель            работ</th>\n",
       "      <th>диаметр  и   толщина стенки</th>\n",
       "      <th>Марка стали</th>\n",
       "      <th>Заявка</th>\n",
       "      <th>Годен / не годен</th>\n",
       "    </tr>\n",
       "  </thead>\n",
       "  <tbody>\n",
       "    <tr>\n",
       "      <th>0</th>\n",
       "      <td>1</td>\n",
       "      <td>2789</td>\n",
       "      <td>РД</td>\n",
       "      <td>другое</td>\n",
       "      <td>159х6</td>\n",
       "      <td>М01</td>\n",
       "      <td>2018-06-04</td>\n",
       "      <td>годен</td>\n",
       "    </tr>\n",
       "    <tr>\n",
       "      <th>1</th>\n",
       "      <td>2</td>\n",
       "      <td>2789</td>\n",
       "      <td>РАД</td>\n",
       "      <td>другое</td>\n",
       "      <td>другое</td>\n",
       "      <td>М01</td>\n",
       "      <td>2018-06-04</td>\n",
       "      <td>годен</td>\n",
       "    </tr>\n",
       "    <tr>\n",
       "      <th>2</th>\n",
       "      <td>5</td>\n",
       "      <td>2SKB</td>\n",
       "      <td>РД</td>\n",
       "      <td>другое</td>\n",
       "      <td>159х8</td>\n",
       "      <td>М01</td>\n",
       "      <td>2018-06-04</td>\n",
       "      <td>годен</td>\n",
       "    </tr>\n",
       "    <tr>\n",
       "      <th>3</th>\n",
       "      <td>6</td>\n",
       "      <td>2SKB</td>\n",
       "      <td>РД</td>\n",
       "      <td>другое</td>\n",
       "      <td>159х8</td>\n",
       "      <td>М01</td>\n",
       "      <td>2018-06-04</td>\n",
       "      <td>годен</td>\n",
       "    </tr>\n",
       "    <tr>\n",
       "      <th>4</th>\n",
       "      <td>7</td>\n",
       "      <td>2SKB</td>\n",
       "      <td>РАД</td>\n",
       "      <td>другое</td>\n",
       "      <td>другое</td>\n",
       "      <td>М01</td>\n",
       "      <td>2018-06-04</td>\n",
       "      <td>годен</td>\n",
       "    </tr>\n",
       "  </tbody>\n",
       "</table>\n",
       "</div>"
      ],
      "text/plain": [
       "   п/п клеймо Вид сварки Производитель            работ  \\\n",
       "0    1   2789         РД                         другое   \n",
       "1    2   2789        РАД                         другое   \n",
       "2    5   2SKB         РД                         другое   \n",
       "3    6   2SKB         РД                         другое   \n",
       "4    7   2SKB        РАД                         другое   \n",
       "\n",
       "  диаметр  и   толщина стенки Марка стали     Заявка Годен / не годен  \n",
       "0                       159х6         М01 2018-06-04            годен  \n",
       "1                      другое         М01 2018-06-04            годен  \n",
       "2                       159х8         М01 2018-06-04            годен  \n",
       "3                       159х8         М01 2018-06-04            годен  \n",
       "4                      другое         М01 2018-06-04            годен  "
      ]
     },
     "execution_count": 40,
     "metadata": {},
     "output_type": "execute_result"
    }
   ],
   "source": [
    "df=pd.read_excel('сварка.xlsx')\n",
    "df.head()"
   ]
  },
  {
   "cell_type": "code",
   "execution_count": 41,
   "metadata": {},
   "outputs": [],
   "source": [
    "df['Годен / не годен'] = df['Годен / не годен'].replace('годен', 0)\n",
    "df['Годен / не годен'] = df['Годен / не годен'].replace('негоден', 1)\n",
    "df['Годен / не годен'] = df['Годен / не годен'].astype(int)\n",
    "\n",
    "df.columns=['n','kleimo','vid_svarki','prozvoditel','diam_tolsch_stenki','marka_stali','zayavka','negoden']\n",
    "df['Year'] = df['zayavka'].dt.to_period('Y')"
   ]
  },
  {
   "cell_type": "code",
   "execution_count": 42,
   "metadata": {},
   "outputs": [
    {
     "data": {
      "text/plain": [
       "n                              int64\n",
       "kleimo                        object\n",
       "vid_svarki                    object\n",
       "prozvoditel                   object\n",
       "diam_tolsch_stenki            object\n",
       "marka_stali                   object\n",
       "zayavka               datetime64[ns]\n",
       "negoden                        int64\n",
       "Year                   period[A-DEC]\n",
       "dtype: object"
      ]
     },
     "execution_count": 42,
     "metadata": {},
     "output_type": "execute_result"
    }
   ],
   "source": [
    "df.dtypes"
   ]
  },
  {
   "cell_type": "code",
   "execution_count": 43,
   "metadata": {},
   "outputs": [
    {
     "data": {
      "text/html": [
       "<div>\n",
       "<style scoped>\n",
       "    .dataframe tbody tr th:only-of-type {\n",
       "        vertical-align: middle;\n",
       "    }\n",
       "\n",
       "    .dataframe tbody tr th {\n",
       "        vertical-align: top;\n",
       "    }\n",
       "\n",
       "    .dataframe thead th {\n",
       "        text-align: right;\n",
       "    }\n",
       "</style>\n",
       "<table border=\"1\" class=\"dataframe\">\n",
       "  <thead>\n",
       "    <tr style=\"text-align: right;\">\n",
       "      <th></th>\n",
       "      <th>n</th>\n",
       "      <th>negoden</th>\n",
       "    </tr>\n",
       "  </thead>\n",
       "  <tbody>\n",
       "    <tr>\n",
       "      <th>count</th>\n",
       "      <td>5088.000000</td>\n",
       "      <td>5088.000000</td>\n",
       "    </tr>\n",
       "    <tr>\n",
       "      <th>mean</th>\n",
       "      <td>952.466785</td>\n",
       "      <td>0.143475</td>\n",
       "    </tr>\n",
       "    <tr>\n",
       "      <th>std</th>\n",
       "      <td>631.649832</td>\n",
       "      <td>0.350591</td>\n",
       "    </tr>\n",
       "    <tr>\n",
       "      <th>min</th>\n",
       "      <td>1.000000</td>\n",
       "      <td>0.000000</td>\n",
       "    </tr>\n",
       "    <tr>\n",
       "      <th>25%</th>\n",
       "      <td>435.000000</td>\n",
       "      <td>0.000000</td>\n",
       "    </tr>\n",
       "    <tr>\n",
       "      <th>50%</th>\n",
       "      <td>860.000000</td>\n",
       "      <td>0.000000</td>\n",
       "    </tr>\n",
       "    <tr>\n",
       "      <th>75%</th>\n",
       "      <td>1405.000000</td>\n",
       "      <td>0.000000</td>\n",
       "    </tr>\n",
       "    <tr>\n",
       "      <th>max</th>\n",
       "      <td>2425.000000</td>\n",
       "      <td>1.000000</td>\n",
       "    </tr>\n",
       "  </tbody>\n",
       "</table>\n",
       "</div>"
      ],
      "text/plain": [
       "                 n      negoden\n",
       "count  5088.000000  5088.000000\n",
       "mean    952.466785     0.143475\n",
       "std     631.649832     0.350591\n",
       "min       1.000000     0.000000\n",
       "25%     435.000000     0.000000\n",
       "50%     860.000000     0.000000\n",
       "75%    1405.000000     0.000000\n",
       "max    2425.000000     1.000000"
      ]
     },
     "execution_count": 43,
     "metadata": {},
     "output_type": "execute_result"
    }
   ],
   "source": [
    "df.describe()"
   ]
  },
  {
   "cell_type": "code",
   "execution_count": 44,
   "metadata": {},
   "outputs": [
    {
     "data": {
      "text/plain": [
       "14.3"
      ]
     },
     "execution_count": 44,
     "metadata": {},
     "output_type": "execute_result"
    }
   ],
   "source": [
    "# Определение процента негодных швов\n",
    "negoden = (df.negoden == 1).sum(axis=0)\n",
    "round(negoden/df.shape[0]*100,1)"
   ]
  },
  {
   "cell_type": "markdown",
   "metadata": {},
   "source": [
    "### ГИПОТЕЗА - Влияют ли признаки из датасета на показатель брака? Так как все данные являются категориальными, будем делать попарные сравнения признаков с целевой переменной с помощью критерия ХИ КВАДРАТ"
   ]
  },
  {
   "cell_type": "code",
   "execution_count": 45,
   "metadata": {},
   "outputs": [
    {
     "data": {
      "text/html": [
       "<div>\n",
       "<style scoped>\n",
       "    .dataframe tbody tr th:only-of-type {\n",
       "        vertical-align: middle;\n",
       "    }\n",
       "\n",
       "    .dataframe tbody tr th {\n",
       "        vertical-align: top;\n",
       "    }\n",
       "\n",
       "    .dataframe thead th {\n",
       "        text-align: right;\n",
       "    }\n",
       "</style>\n",
       "<table border=\"1\" class=\"dataframe\">\n",
       "  <thead>\n",
       "    <tr style=\"text-align: right;\">\n",
       "      <th>vid_svarki</th>\n",
       "      <th>РАД</th>\n",
       "      <th>РД</th>\n",
       "      <th>другое</th>\n",
       "    </tr>\n",
       "    <tr>\n",
       "      <th>negoden</th>\n",
       "      <th></th>\n",
       "      <th></th>\n",
       "      <th></th>\n",
       "    </tr>\n",
       "  </thead>\n",
       "  <tbody>\n",
       "    <tr>\n",
       "      <th>0</th>\n",
       "      <td>2286</td>\n",
       "      <td>1931</td>\n",
       "      <td>141</td>\n",
       "    </tr>\n",
       "    <tr>\n",
       "      <th>1</th>\n",
       "      <td>119</td>\n",
       "      <td>593</td>\n",
       "      <td>18</td>\n",
       "    </tr>\n",
       "  </tbody>\n",
       "</table>\n",
       "</div>"
      ],
      "text/plain": [
       "vid_svarki   РАД    РД  другое\n",
       "negoden                       \n",
       "0           2286  1931     141\n",
       "1            119   593      18"
      ]
     },
     "execution_count": 45,
     "metadata": {},
     "output_type": "execute_result"
    }
   ],
   "source": [
    "# ХИ2.ТЕСТ для переменных «Годен / не годен» и «Вид сварки»\n",
    "df_chi = pd.crosstab(df['negoden'], df['vid_svarki'])\n",
    "df_chi"
   ]
  },
  {
   "cell_type": "code",
   "execution_count": 46,
   "metadata": {},
   "outputs": [
    {
     "name": "stdout",
     "output_type": "stream",
     "text": [
      "test Statistics: 345.93069434041115\n",
      "degrees of freedom: 2\n",
      "p-value: 7.622618130316593e-76\n",
      "\n",
      "[[2059.94300314 2161.86949686  136.1875    ]\n",
      " [ 345.05699686  362.13050314   22.8125    ]]\n",
      "\n",
      "\n",
      "Cвязь есть, различия значимы, переменные зависимы друг от друга\n"
     ]
    }
   ],
   "source": [
    "table = [ [ 2286, 1931, 141 ], [ 119, 593, 18 ] ]\n",
    "\n",
    "chi2, prob, dof, expected = scipy.stats.chi2_contingency(table)\n",
    "\n",
    "output = \"test Statistics: {}\\ndegrees of freedom: {}\\np-value: {}\\n\"\n",
    "\n",
    "print(output.format( chi2, dof, prob))\n",
    "\n",
    "print(expected)\n",
    "print('\\n')\n",
    "if prob < 0.05:\n",
    "    print(\"Cвязь есть, различия значимы, переменные зависимы друг от друга\")\n",
    "else:\n",
    "    print(\"Cвязи нет,  различия незначимы, переменные независимы друг от друга\")"
   ]
  },
  {
   "cell_type": "code",
   "execution_count": 47,
   "metadata": {},
   "outputs": [
    {
     "data": {
      "text/html": [
       "<div>\n",
       "<style scoped>\n",
       "    .dataframe tbody tr th:only-of-type {\n",
       "        vertical-align: middle;\n",
       "    }\n",
       "\n",
       "    .dataframe tbody tr th {\n",
       "        vertical-align: top;\n",
       "    }\n",
       "\n",
       "    .dataframe thead th {\n",
       "        text-align: right;\n",
       "    }\n",
       "</style>\n",
       "<table border=\"1\" class=\"dataframe\">\n",
       "  <thead>\n",
       "    <tr style=\"text-align: right;\">\n",
       "      <th>prozvoditel</th>\n",
       "      <th>БРАВ-ТР</th>\n",
       "      <th>ГСИ ВФ НЗМ</th>\n",
       "      <th>КитСтрой</th>\n",
       "      <th>СГ-Волга</th>\n",
       "      <th>СГМ</th>\n",
       "      <th>СМУ №7</th>\n",
       "      <th>другое</th>\n",
       "    </tr>\n",
       "    <tr>\n",
       "      <th>negoden</th>\n",
       "      <th></th>\n",
       "      <th></th>\n",
       "      <th></th>\n",
       "      <th></th>\n",
       "      <th></th>\n",
       "      <th></th>\n",
       "      <th></th>\n",
       "    </tr>\n",
       "  </thead>\n",
       "  <tbody>\n",
       "    <tr>\n",
       "      <th>0</th>\n",
       "      <td>246</td>\n",
       "      <td>466</td>\n",
       "      <td>409</td>\n",
       "      <td>251</td>\n",
       "      <td>147</td>\n",
       "      <td>426</td>\n",
       "      <td>2413</td>\n",
       "    </tr>\n",
       "    <tr>\n",
       "      <th>1</th>\n",
       "      <td>8</td>\n",
       "      <td>33</td>\n",
       "      <td>88</td>\n",
       "      <td>54</td>\n",
       "      <td>16</td>\n",
       "      <td>108</td>\n",
       "      <td>423</td>\n",
       "    </tr>\n",
       "  </tbody>\n",
       "</table>\n",
       "</div>"
      ],
      "text/plain": [
       "prozvoditel  БРАВ-ТР  ГСИ ВФ НЗМ  КитСтрой  СГ-Волга  СГМ  СМУ №7  другое\n",
       "negoden                                                                  \n",
       "0                246         466       409       251  147     426    2413\n",
       "1                  8          33        88        54   16     108     423"
      ]
     },
     "execution_count": 47,
     "metadata": {},
     "output_type": "execute_result"
    }
   ],
   "source": [
    "# ХИ2.ТЕСТ для переменных «Годен / не годен» и «Производитель работ»\n",
    "df_chi = pd.crosstab(df['negoden'], df['prozvoditel'])\n",
    "df_chi"
   ]
  },
  {
   "cell_type": "code",
   "execution_count": 48,
   "metadata": {},
   "outputs": [
    {
     "name": "stdout",
     "output_type": "stream",
     "text": [
      "test Statistics: 76.04472916650006\n",
      "degrees of freedom: 6\n",
      "p-value: 2.3387249708439886e-14\n",
      "\n",
      "[[ 217.55738994  427.40605346  425.69300314  261.24017296  139.61360063\n",
      "   457.38443396 2429.10534591]\n",
      " [  36.44261006   71.59394654   71.30699686   43.75982704   23.38639937\n",
      "    76.61556604  406.89465409]]\n",
      "\n",
      "\n",
      "Cвязь есть, различия значимы, переменные зависимы друг от друга\n"
     ]
    }
   ],
   "source": [
    "table = [ [ 246,466,409,251,147,426,2413 ], [ 8,33,88,54,16,108,423 ] ]\n",
    "\n",
    "chi2, prob, dof, expected = scipy.stats.chi2_contingency(table)\n",
    "\n",
    "output = \"test Statistics: {}\\ndegrees of freedom: {}\\np-value: {}\\n\"\n",
    "\n",
    "print(output.format( chi2, dof, prob))\n",
    "\n",
    "print(expected)\n",
    "print('\\n')\n",
    "if prob < 0.05:\n",
    "    print(\"Cвязь есть, различия значимы, переменные зависимы друг от друга\")\n",
    "else:\n",
    "    print(\"Cвязи нет, различия незначимы, переменные независимы друг от друга\")"
   ]
  },
  {
   "cell_type": "code",
   "execution_count": 49,
   "metadata": {},
   "outputs": [
    {
     "data": {
      "text/html": [
       "<div>\n",
       "<style scoped>\n",
       "    .dataframe tbody tr th:only-of-type {\n",
       "        vertical-align: middle;\n",
       "    }\n",
       "\n",
       "    .dataframe tbody tr th {\n",
       "        vertical-align: top;\n",
       "    }\n",
       "\n",
       "    .dataframe thead th {\n",
       "        text-align: right;\n",
       "    }\n",
       "</style>\n",
       "<table border=\"1\" class=\"dataframe\">\n",
       "  <thead>\n",
       "    <tr style=\"text-align: right;\">\n",
       "      <th>diam_tolsch_stenki</th>\n",
       "      <th>159х6</th>\n",
       "      <th>159х8</th>\n",
       "      <th>32х4</th>\n",
       "      <th>32х5</th>\n",
       "      <th>57х5</th>\n",
       "      <th>57х6</th>\n",
       "      <th>другое</th>\n",
       "    </tr>\n",
       "    <tr>\n",
       "      <th>negoden</th>\n",
       "      <th></th>\n",
       "      <th></th>\n",
       "      <th></th>\n",
       "      <th></th>\n",
       "      <th></th>\n",
       "      <th></th>\n",
       "      <th></th>\n",
       "    </tr>\n",
       "  </thead>\n",
       "  <tbody>\n",
       "    <tr>\n",
       "      <th>0</th>\n",
       "      <td>830</td>\n",
       "      <td>706</td>\n",
       "      <td>342</td>\n",
       "      <td>184</td>\n",
       "      <td>723</td>\n",
       "      <td>558</td>\n",
       "      <td>1015</td>\n",
       "    </tr>\n",
       "    <tr>\n",
       "      <th>1</th>\n",
       "      <td>230</td>\n",
       "      <td>206</td>\n",
       "      <td>52</td>\n",
       "      <td>27</td>\n",
       "      <td>67</td>\n",
       "      <td>28</td>\n",
       "      <td>120</td>\n",
       "    </tr>\n",
       "  </tbody>\n",
       "</table>\n",
       "</div>"
      ],
      "text/plain": [
       "diam_tolsch_stenki  159х6  159х8  32х4  32х5  57х5  57х6  другое\n",
       "negoden                                                         \n",
       "0                     830    706   342   184   723   558    1015\n",
       "1                     230    206    52    27    67    28     120"
      ]
     },
     "execution_count": 49,
     "metadata": {},
     "output_type": "execute_result"
    }
   ],
   "source": [
    "# ХИ2.ТЕСТ для переменных «Годен / не годен» и «Диаметр и толщина стенки»\n",
    "df_chi = pd.crosstab(df['negoden'], df['diam_tolsch_stenki'])\n",
    "df_chi"
   ]
  },
  {
   "cell_type": "code",
   "execution_count": 50,
   "metadata": {},
   "outputs": [
    {
     "name": "stdout",
     "output_type": "stream",
     "text": [
      "test Statistics: 176.78466658436048\n",
      "degrees of freedom: 6\n",
      "p-value: 1.63426433889201e-35\n",
      "\n",
      "[[907.91666667 781.1509434  337.47091195 180.72680818 676.65487421\n",
      "  501.92374214 972.15605346]\n",
      " [152.08333333 130.8490566   56.52908805  30.27319182 113.34512579\n",
      "   84.07625786 162.84394654]]\n",
      "\n",
      "\n",
      "Cвязь есть, различия значимы, переменные зависимы друг от друга\n"
     ]
    }
   ],
   "source": [
    "table = [ [ 830,706,342,184,723,558,1015 ], [ 230,206,52,27,67,28,120 ] ]\n",
    "\n",
    "chi2, prob, dof, expected = scipy.stats.chi2_contingency(table)\n",
    "\n",
    "output = \"test Statistics: {}\\ndegrees of freedom: {}\\np-value: {}\\n\"\n",
    "\n",
    "print(output.format( chi2, dof, prob))\n",
    "\n",
    "print(expected)\n",
    "print('\\n')\n",
    "if prob < 0.05:\n",
    "    print(\"Cвязь есть, различия значимы, переменные зависимы друг от друга\")\n",
    "else:\n",
    "    print(\"Cвязи нет, различия не значимы, переменные независимы друг от друга\")"
   ]
  },
  {
   "cell_type": "code",
   "execution_count": 51,
   "metadata": {},
   "outputs": [
    {
     "data": {
      "text/html": [
       "<div>\n",
       "<style scoped>\n",
       "    .dataframe tbody tr th:only-of-type {\n",
       "        vertical-align: middle;\n",
       "    }\n",
       "\n",
       "    .dataframe tbody tr th {\n",
       "        vertical-align: top;\n",
       "    }\n",
       "\n",
       "    .dataframe thead th {\n",
       "        text-align: right;\n",
       "    }\n",
       "</style>\n",
       "<table border=\"1\" class=\"dataframe\">\n",
       "  <thead>\n",
       "    <tr style=\"text-align: right;\">\n",
       "      <th>marka_stali</th>\n",
       "      <th>М01</th>\n",
       "      <th>М11</th>\n",
       "      <th>другое</th>\n",
       "    </tr>\n",
       "    <tr>\n",
       "      <th>negoden</th>\n",
       "      <th></th>\n",
       "      <th></th>\n",
       "      <th></th>\n",
       "    </tr>\n",
       "  </thead>\n",
       "  <tbody>\n",
       "    <tr>\n",
       "      <th>0</th>\n",
       "      <td>3632</td>\n",
       "      <td>462</td>\n",
       "      <td>264</td>\n",
       "    </tr>\n",
       "    <tr>\n",
       "      <th>1</th>\n",
       "      <td>666</td>\n",
       "      <td>31</td>\n",
       "      <td>33</td>\n",
       "    </tr>\n",
       "  </tbody>\n",
       "</table>\n",
       "</div>"
      ],
      "text/plain": [
       "marka_stali   М01  М11  другое\n",
       "negoden                       \n",
       "0            3632  462     264\n",
       "1             666   31      33"
      ]
     },
     "execution_count": 51,
     "metadata": {},
     "output_type": "execute_result"
    }
   ],
   "source": [
    "# ХИ2.ТЕСТ для переменных «Годен / не годен» и «Марка стали»\n",
    "df_chi = pd.crosstab(df['negoden'], df['marka_stali'])\n",
    "df_chi"
   ]
  },
  {
   "cell_type": "code",
   "execution_count": 52,
   "metadata": {},
   "outputs": [
    {
     "name": "stdout",
     "output_type": "stream",
     "text": [
      "test Statistics: 33.19949661905186\n",
      "degrees of freedom: 2\n",
      "p-value: 6.177615987023092e-08\n",
      "\n",
      "[[3681.34512579  422.26690252  254.3879717 ]\n",
      " [ 616.65487421   70.73309748   42.6120283 ]]\n",
      "\n",
      "\n",
      "Cвязь есть, различия значимы, переменные зависимы друг от друга\n"
     ]
    }
   ],
   "source": [
    "table = [ [ 3632,462,264 ], [ 666,31,33 ] ]\n",
    "\n",
    "chi2, prob, dof, expected = scipy.stats.chi2_contingency(table)\n",
    "\n",
    "output = \"test Statistics: {}\\ndegrees of freedom: {}\\np-value: {}\\n\"\n",
    "\n",
    "print(output.format( chi2, dof, prob))\n",
    "\n",
    "print(expected)\n",
    "print('\\n')\n",
    "if prob < 0.05:\n",
    "    print(\"Cвязь есть, различия значимы, переменные зависимы друг от друга\")\n",
    "else:\n",
    "    print(\"Cвязи нет, различия не значимы, переменные независимы друг от друга\")"
   ]
  },
  {
   "cell_type": "code",
   "execution_count": 53,
   "metadata": {},
   "outputs": [
    {
     "data": {
      "text/html": [
       "<div>\n",
       "<style scoped>\n",
       "    .dataframe tbody tr th:only-of-type {\n",
       "        vertical-align: middle;\n",
       "    }\n",
       "\n",
       "    .dataframe tbody tr th {\n",
       "        vertical-align: top;\n",
       "    }\n",
       "\n",
       "    .dataframe thead th {\n",
       "        text-align: right;\n",
       "    }\n",
       "</style>\n",
       "<table border=\"1\" class=\"dataframe\">\n",
       "  <thead>\n",
       "    <tr style=\"text-align: right;\">\n",
       "      <th>Year</th>\n",
       "      <th>2018</th>\n",
       "      <th>2019</th>\n",
       "      <th>2020</th>\n",
       "    </tr>\n",
       "    <tr>\n",
       "      <th>negoden</th>\n",
       "      <th></th>\n",
       "      <th></th>\n",
       "      <th></th>\n",
       "    </tr>\n",
       "  </thead>\n",
       "  <tbody>\n",
       "    <tr>\n",
       "      <th>0</th>\n",
       "      <td>845</td>\n",
       "      <td>2107</td>\n",
       "      <td>1406</td>\n",
       "    </tr>\n",
       "    <tr>\n",
       "      <th>1</th>\n",
       "      <td>163</td>\n",
       "      <td>313</td>\n",
       "      <td>254</td>\n",
       "    </tr>\n",
       "  </tbody>\n",
       "</table>\n",
       "</div>"
      ],
      "text/plain": [
       "Year     2018  2019  2020\n",
       "negoden                  \n",
       "0         845  2107  1406\n",
       "1         163   313   254"
      ]
     },
     "execution_count": 53,
     "metadata": {},
     "output_type": "execute_result"
    }
   ],
   "source": [
    "# ХИ2.ТЕСТ для переменных «Годен / не годен» и «Год»\n",
    "df_chi = pd.crosstab(df['negoden'], df['Year'])\n",
    "df_chi"
   ]
  },
  {
   "cell_type": "code",
   "execution_count": 54,
   "metadata": {},
   "outputs": [
    {
     "name": "stdout",
     "output_type": "stream",
     "text": [
      "test Statistics: 7.890139751045273\n",
      "degrees of freedom: 2\n",
      "p-value: 0.01934986424056103\n",
      "\n",
      "[[ 863.37735849 2072.7908805  1421.83176101]\n",
      " [ 144.62264151  347.2091195   238.16823899]]\n",
      "\n",
      "\n",
      "Cвязь есть, различия значимы, переменные зависимы друг от друга\n"
     ]
    }
   ],
   "source": [
    "table = [ [ 845,2107,1406 ], [ 163,313,254 ] ]\n",
    "\n",
    "chi2, prob, dof, expected = scipy.stats.chi2_contingency(table)\n",
    "\n",
    "output = \"test Statistics: {}\\ndegrees of freedom: {}\\np-value: {}\\n\"\n",
    "\n",
    "print(output.format( chi2, dof, prob))\n",
    "\n",
    "print(expected)\n",
    "print('\\n')\n",
    "if prob < 0.05:\n",
    "    print(\"Cвязь есть, различия значимы, переменные зависимы друг от друга\")\n",
    "else:\n",
    "    print(\"Cвязи нет, различия не значимы, переменные независимы друг от друга\")"
   ]
  },
  {
   "cell_type": "markdown",
   "metadata": {},
   "source": [
    "### Все признаки в разной степени влияют на целевой показатель (наличие брака в сварочном шве), во всех тестах ХИ квадрат есть значимые различия, значения p < 0.05"
   ]
  },
  {
   "cell_type": "code",
   "execution_count": null,
   "metadata": {},
   "outputs": [],
   "source": []
  }
 ],
 "metadata": {
  "kernelspec": {
   "display_name": "Python 3",
   "language": "python",
   "name": "python3"
  },
  "language_info": {
   "codemirror_mode": {
    "name": "ipython",
    "version": 3
   },
   "file_extension": ".py",
   "mimetype": "text/x-python",
   "name": "python",
   "nbconvert_exporter": "python",
   "pygments_lexer": "ipython3",
   "version": "3.8.5"
  }
 },
 "nbformat": 4,
 "nbformat_minor": 2
}

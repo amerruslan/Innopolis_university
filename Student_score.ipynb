{
 "cells": [
  {
   "cell_type": "code",
   "execution_count": 5,
   "metadata": {},
   "outputs": [],
   "source": [
    "import pandas as pd\n",
    "import numpy as np\n",
    "from sklearn.model_selection import train_test_split\n",
    "from sklearn.ensemble import RandomForestClassifier\n",
    "from sklearn.metrics import accuracy_score\n",
    "import joblib"
   ]
  },
  {
   "cell_type": "code",
   "execution_count": 9,
   "metadata": {},
   "outputs": [],
   "source": [
    "# Шаг 1: Создание датасета\n",
    "np.random.seed(42)\n",
    "\n",
    "data = {\n",
    "    'Предмет1': np.random.randint(0, 100, 2000),\n",
    "    'Предмет2': np.random.randint(0, 100, 2000),\n",
    "    'Предмет3': np.random.randint(0, 100, 2000),\n",
    "    'Предмет4': np.random.randint(0, 100, 2000),\n",
    "    'Предмет5': np.random.randint(0, 100, 2000),\n",
    "    'Предмет6': np.random.randint(0, 100, 2000),\n",
    "    'Итоговая_оценка': np.random.choice(['Удовлетворительно', 'Хорошо', 'Отлично'], size=2000)\n",
    "}\n",
    "\n",
    "df = pd.DataFrame(data)"
   ]
  },
  {
   "cell_type": "code",
   "execution_count": 17,
   "metadata": {},
   "outputs": [
    {
     "data": {
      "text/html": [
       "<div>\n",
       "<style scoped>\n",
       "    .dataframe tbody tr th:only-of-type {\n",
       "        vertical-align: middle;\n",
       "    }\n",
       "\n",
       "    .dataframe tbody tr th {\n",
       "        vertical-align: top;\n",
       "    }\n",
       "\n",
       "    .dataframe thead th {\n",
       "        text-align: right;\n",
       "    }\n",
       "</style>\n",
       "<table border=\"1\" class=\"dataframe\">\n",
       "  <thead>\n",
       "    <tr style=\"text-align: right;\">\n",
       "      <th></th>\n",
       "      <th>Предмет1</th>\n",
       "      <th>Предмет2</th>\n",
       "      <th>Предмет3</th>\n",
       "      <th>Предмет4</th>\n",
       "      <th>Предмет5</th>\n",
       "      <th>Предмет6</th>\n",
       "      <th>Итоговая_оценка</th>\n",
       "    </tr>\n",
       "  </thead>\n",
       "  <tbody>\n",
       "    <tr>\n",
       "      <th>0</th>\n",
       "      <td>51</td>\n",
       "      <td>75</td>\n",
       "      <td>65</td>\n",
       "      <td>25</td>\n",
       "      <td>12</td>\n",
       "      <td>37</td>\n",
       "      <td>Удовлетворительно</td>\n",
       "    </tr>\n",
       "    <tr>\n",
       "      <th>1</th>\n",
       "      <td>92</td>\n",
       "      <td>45</td>\n",
       "      <td>89</td>\n",
       "      <td>46</td>\n",
       "      <td>39</td>\n",
       "      <td>37</td>\n",
       "      <td>Удовлетворительно</td>\n",
       "    </tr>\n",
       "    <tr>\n",
       "      <th>2</th>\n",
       "      <td>14</td>\n",
       "      <td>31</td>\n",
       "      <td>12</td>\n",
       "      <td>4</td>\n",
       "      <td>88</td>\n",
       "      <td>52</td>\n",
       "      <td>Отлично</td>\n",
       "    </tr>\n",
       "    <tr>\n",
       "      <th>3</th>\n",
       "      <td>71</td>\n",
       "      <td>78</td>\n",
       "      <td>55</td>\n",
       "      <td>89</td>\n",
       "      <td>67</td>\n",
       "      <td>92</td>\n",
       "      <td>Удовлетворительно</td>\n",
       "    </tr>\n",
       "    <tr>\n",
       "      <th>4</th>\n",
       "      <td>60</td>\n",
       "      <td>79</td>\n",
       "      <td>30</td>\n",
       "      <td>19</td>\n",
       "      <td>41</td>\n",
       "      <td>99</td>\n",
       "      <td>Удовлетворительно</td>\n",
       "    </tr>\n",
       "  </tbody>\n",
       "</table>\n",
       "</div>"
      ],
      "text/plain": [
       "   Предмет1  Предмет2  Предмет3  Предмет4  Предмет5  Предмет6  \\\n",
       "0        51        75        65        25        12        37   \n",
       "1        92        45        89        46        39        37   \n",
       "2        14        31        12         4        88        52   \n",
       "3        71        78        55        89        67        92   \n",
       "4        60        79        30        19        41        99   \n",
       "\n",
       "     Итоговая_оценка  \n",
       "0  Удовлетворительно  \n",
       "1  Удовлетворительно  \n",
       "2            Отлично  \n",
       "3  Удовлетворительно  \n",
       "4  Удовлетворительно  "
      ]
     },
     "execution_count": 17,
     "metadata": {},
     "output_type": "execute_result"
    }
   ],
   "source": [
    "df.head()"
   ]
  },
  {
   "cell_type": "code",
   "execution_count": 19,
   "metadata": {},
   "outputs": [],
   "source": [
    "# Шаг 2: Разбиение на тестовую и обучающую выборки\n",
    "X = df.drop('Итоговая_оценка', axis=1)\n",
    "y = df['Итоговая_оценка']\n",
    "X_train, X_test, y_train, y_test = train_test_split(X, y, test_size=0.3, random_state=42)"
   ]
  },
  {
   "cell_type": "code",
   "execution_count": 20,
   "metadata": {},
   "outputs": [],
   "source": [
    "# Шаг 3: Выбор лучших 3 признаков"
   ]
  },
  {
   "cell_type": "code",
   "execution_count": 21,
   "metadata": {},
   "outputs": [
    {
     "data": {
      "text/html": [
       "<div>\n",
       "<style scoped>\n",
       "    .dataframe tbody tr th:only-of-type {\n",
       "        vertical-align: middle;\n",
       "    }\n",
       "\n",
       "    .dataframe tbody tr th {\n",
       "        vertical-align: top;\n",
       "    }\n",
       "\n",
       "    .dataframe thead th {\n",
       "        text-align: right;\n",
       "    }\n",
       "</style>\n",
       "<table border=\"1\" class=\"dataframe\">\n",
       "  <thead>\n",
       "    <tr style=\"text-align: right;\">\n",
       "      <th></th>\n",
       "      <th>Предмет1</th>\n",
       "      <th>Предмет2</th>\n",
       "      <th>Предмет3</th>\n",
       "      <th>Предмет4</th>\n",
       "      <th>Предмет5</th>\n",
       "      <th>Предмет6</th>\n",
       "    </tr>\n",
       "  </thead>\n",
       "  <tbody>\n",
       "    <tr>\n",
       "      <th>count</th>\n",
       "      <td>2000.000000</td>\n",
       "      <td>2000.000000</td>\n",
       "      <td>2000.000000</td>\n",
       "      <td>2000.000000</td>\n",
       "      <td>2000.000000</td>\n",
       "      <td>2000.000000</td>\n",
       "    </tr>\n",
       "    <tr>\n",
       "      <th>mean</th>\n",
       "      <td>49.038000</td>\n",
       "      <td>48.119500</td>\n",
       "      <td>50.259000</td>\n",
       "      <td>49.334000</td>\n",
       "      <td>49.720500</td>\n",
       "      <td>50.368500</td>\n",
       "    </tr>\n",
       "    <tr>\n",
       "      <th>std</th>\n",
       "      <td>29.346894</td>\n",
       "      <td>28.768351</td>\n",
       "      <td>28.443478</td>\n",
       "      <td>28.848511</td>\n",
       "      <td>28.907165</td>\n",
       "      <td>28.602461</td>\n",
       "    </tr>\n",
       "    <tr>\n",
       "      <th>min</th>\n",
       "      <td>0.000000</td>\n",
       "      <td>0.000000</td>\n",
       "      <td>0.000000</td>\n",
       "      <td>0.000000</td>\n",
       "      <td>0.000000</td>\n",
       "      <td>0.000000</td>\n",
       "    </tr>\n",
       "    <tr>\n",
       "      <th>25%</th>\n",
       "      <td>24.000000</td>\n",
       "      <td>23.000000</td>\n",
       "      <td>26.000000</td>\n",
       "      <td>24.000000</td>\n",
       "      <td>25.000000</td>\n",
       "      <td>25.000000</td>\n",
       "    </tr>\n",
       "    <tr>\n",
       "      <th>50%</th>\n",
       "      <td>49.000000</td>\n",
       "      <td>47.000000</td>\n",
       "      <td>52.000000</td>\n",
       "      <td>49.000000</td>\n",
       "      <td>50.000000</td>\n",
       "      <td>52.000000</td>\n",
       "    </tr>\n",
       "    <tr>\n",
       "      <th>75%</th>\n",
       "      <td>74.000000</td>\n",
       "      <td>73.000000</td>\n",
       "      <td>75.000000</td>\n",
       "      <td>75.000000</td>\n",
       "      <td>75.000000</td>\n",
       "      <td>75.000000</td>\n",
       "    </tr>\n",
       "    <tr>\n",
       "      <th>max</th>\n",
       "      <td>99.000000</td>\n",
       "      <td>99.000000</td>\n",
       "      <td>99.000000</td>\n",
       "      <td>99.000000</td>\n",
       "      <td>99.000000</td>\n",
       "      <td>99.000000</td>\n",
       "    </tr>\n",
       "  </tbody>\n",
       "</table>\n",
       "</div>"
      ],
      "text/plain": [
       "          Предмет1     Предмет2     Предмет3     Предмет4     Предмет5  \\\n",
       "count  2000.000000  2000.000000  2000.000000  2000.000000  2000.000000   \n",
       "mean     49.038000    48.119500    50.259000    49.334000    49.720500   \n",
       "std      29.346894    28.768351    28.443478    28.848511    28.907165   \n",
       "min       0.000000     0.000000     0.000000     0.000000     0.000000   \n",
       "25%      24.000000    23.000000    26.000000    24.000000    25.000000   \n",
       "50%      49.000000    47.000000    52.000000    49.000000    50.000000   \n",
       "75%      74.000000    73.000000    75.000000    75.000000    75.000000   \n",
       "max      99.000000    99.000000    99.000000    99.000000    99.000000   \n",
       "\n",
       "          Предмет6  \n",
       "count  2000.000000  \n",
       "mean     50.368500  \n",
       "std      28.602461  \n",
       "min       0.000000  \n",
       "25%      25.000000  \n",
       "50%      52.000000  \n",
       "75%      75.000000  \n",
       "max      99.000000  "
      ]
     },
     "execution_count": 21,
     "metadata": {},
     "output_type": "execute_result"
    }
   ],
   "source": [
    "df.describe()"
   ]
  },
  {
   "cell_type": "code",
   "execution_count": 13,
   "metadata": {},
   "outputs": [],
   "source": [
    "#Возьмем Предмет6 и Предмет1 и Предмет2, так как у них отличчаются средние и медианные значения"
   ]
  },
  {
   "cell_type": "code",
   "execution_count": 22,
   "metadata": {},
   "outputs": [],
   "source": [
    "selected_features = ['Предмет1', 'Предмет2', 'Предмет6']\n",
    "\n",
    "X_train_selected = X_train[selected_features]\n",
    "X_test_selected = X_test[selected_features]"
   ]
  },
  {
   "cell_type": "code",
   "execution_count": 23,
   "metadata": {},
   "outputs": [
    {
     "data": {
      "text/plain": [
       "RandomForestClassifier(random_state=42)"
      ]
     },
     "execution_count": 23,
     "metadata": {},
     "output_type": "execute_result"
    }
   ],
   "source": [
    "# Шаг 4: Обучение модели RandomForest\n",
    "rf_model = RandomForestClassifier(random_state=42)\n",
    "rf_model.fit(X_train_selected, y_train)"
   ]
  },
  {
   "cell_type": "code",
   "execution_count": 24,
   "metadata": {},
   "outputs": [
    {
     "name": "stdout",
     "output_type": "stream",
     "text": [
      "RandomForest Accuracy: 0.33\n"
     ]
    }
   ],
   "source": [
    "# Шаг 5: Тестирование модели и вывод точности RandomForest\n",
    "rf_predictions = rf_model.predict(X_test_selected)\n",
    "rf_accuracy = accuracy_score(y_test, rf_predictions)\n",
    "print(f'RandomForest Accuracy: {rf_accuracy:.2f}')"
   ]
  },
  {
   "cell_type": "code",
   "execution_count": 25,
   "metadata": {},
   "outputs": [
    {
     "data": {
      "text/plain": [
       "['rf_model.joblib']"
      ]
     },
     "execution_count": 25,
     "metadata": {},
     "output_type": "execute_result"
    }
   ],
   "source": [
    "# Шаг 6: Сохранение модели\n",
    "joblib.dump(rf_model, 'rf_model.joblib')"
   ]
  },
  {
   "cell_type": "code",
   "execution_count": 26,
   "metadata": {},
   "outputs": [],
   "source": [
    "# Шаг 7: Функциия для прогнозирования оценки студента\n",
    "def predict_grade(subject_scores):\n",
    "    # Пример входных данных: {'Предмет1': 80, 'Предмет2': 70, 'Предмет6': 90}\n",
    "    input_data = pd.DataFrame([subject_scores])\n",
    "    input_data = input_data[selected_features]  # Выбор только выбранных признаков\n",
    "    prediction = rf_model.predict(input_data)[0]\n",
    "    return prediction"
   ]
  },
  {
   "cell_type": "code",
   "execution_count": 28,
   "metadata": {},
   "outputs": [
    {
     "name": "stdout",
     "output_type": "stream",
     "text": [
      "Predicted Grade: Отлично\n"
     ]
    }
   ],
   "source": [
    "# Пример использования функции\n",
    "student_subjects = {'Предмет1': 80, 'Предмет2': 70, 'Предмет6': 90}\n",
    "predicted_grade = predict_grade(student_subjects)\n",
    "print(f'Predicted Grade: {predicted_grade}')"
   ]
  },
  {
   "cell_type": "code",
   "execution_count": 29,
   "metadata": {},
   "outputs": [
    {
     "name": "stdout",
     "output_type": "stream",
     "text": [
      "Predicted Grade: Удовлетворительно\n"
     ]
    }
   ],
   "source": [
    "# Пример использования функции\n",
    "student_subjects = {'Предмет1': 50, 'Предмет2': 100, 'Предмет6': 0}\n",
    "predicted_grade = predict_grade(student_subjects)\n",
    "print(f'Predicted Grade: {predicted_grade}')"
   ]
  },
  {
   "cell_type": "code",
   "execution_count": null,
   "metadata": {},
   "outputs": [],
   "source": []
  }
 ],
 "metadata": {
  "kernelspec": {
   "display_name": "Python 3",
   "language": "python",
   "name": "python3"
  },
  "language_info": {
   "codemirror_mode": {
    "name": "ipython",
    "version": 3
   },
   "file_extension": ".py",
   "mimetype": "text/x-python",
   "name": "python",
   "nbconvert_exporter": "python",
   "pygments_lexer": "ipython3",
   "version": "3.8.5"
  }
 },
 "nbformat": 4,
 "nbformat_minor": 4
}
